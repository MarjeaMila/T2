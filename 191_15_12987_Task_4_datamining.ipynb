{
  "nbformat": 4,
  "nbformat_minor": 0,
  "metadata": {
    "colab": {
      "name": "191-15-12987_Task_4_datamining",
      "provenance": []
    },
    "kernelspec": {
      "name": "python3",
      "display_name": "Python 3"
    },
    "language_info": {
      "name": "python"
    }
  },
  "cells": [
    {
      "cell_type": "code",
      "metadata": {
        "colab": {
          "base_uri": "https://localhost:8080/"
        },
        "id": "ZRw59KOoLY_d",
        "outputId": "60c451a0-ee8e-4bd1-924b-fc5e9c3465cf"
      },
      "source": [
        "import numpy as np\n",
        "a = np.ones((3,3))\n",
        "print(\"Checkerboard pattern:\")\n",
        "a = np.zeros((8,8),dtype=int)\n",
        "a[1::2,::2] = 1\n",
        "a[::2,1::2] = 1\n",
        "print(a)"
      ],
      "execution_count": 1,
      "outputs": [
        {
          "output_type": "stream",
          "text": [
            "Checkerboard pattern:\n",
            "[[0 1 0 1 0 1 0 1]\n",
            " [1 0 1 0 1 0 1 0]\n",
            " [0 1 0 1 0 1 0 1]\n",
            " [1 0 1 0 1 0 1 0]\n",
            " [0 1 0 1 0 1 0 1]\n",
            " [1 0 1 0 1 0 1 0]\n",
            " [0 1 0 1 0 1 0 1]\n",
            " [1 0 1 0 1 0 1 0]]\n"
          ],
          "name": "stdout"
        }
      ]
    },
    {
      "cell_type": "code",
      "metadata": {
        "colab": {
          "base_uri": "https://localhost:8080/"
        },
        "id": "6bJ2q5hWLx6k",
        "outputId": "c969094b-16e3-4a90-b52d-27acbe39d9fb"
      },
      "source": [
        "import numpy as np\n",
        "arr1 = np.array([100,144,512,256,667,876])\n",
        "print(\"Array1: \",arr1)\n",
        "arr2 = [90,144,512,765,876,987]\n",
        "print(\"Array2: \",arr2)\n",
        "print(\"Common values between two arrays:\")\n",
        "print(np.intersect1d(arr1, arr2))\n"
      ],
      "execution_count": 2,
      "outputs": [
        {
          "output_type": "stream",
          "text": [
            "Array1:  [100 144 512 256 667 876]\n",
            "Array2:  [90, 144, 512, 765, 876, 987]\n",
            "Common values between two arrays:\n",
            "[144 512 876]\n"
          ],
          "name": "stdout"
        }
      ]
    },
    {
      "cell_type": "code",
      "metadata": {
        "colab": {
          "base_uri": "https://localhost:8080/",
          "height": 265
        },
        "id": "vRXPzTAAMMk5",
        "outputId": "603240c3-190b-4399-af79-357099638f55"
      },
      "source": [
        "import numpy as np    \n",
        "import matplotlib.pyplot as plt\n",
        "plt.hist([2, 3, 2], bins=[0, 1, 2, 3, 5])\n",
        "plt.show()"
      ],
      "execution_count": 4,
      "outputs": [
        {
          "output_type": "display_data",
          "data": {
            "image/png": "[encoded data removed]",
            "text/plain": [
              "<Figure size 432x288 with 1 Axes>"
            ]
          },
          "metadata": {
            "tags": [],
            "needs_background": "light"
          }
        }
      ]
    },
    {
      "cell_type": "code",
      "metadata": {
        "colab": {
          "base_uri": "https://localhost:8080/"
        },
        "id": "co3QfkXrMlT3",
        "outputId": "f02226f8-8e91-4a5e-cc81-5d0c0b9f6c8c"
      },
      "source": [
        "import numpy as np\n",
        "a = np.full((3, 5), 2, dtype=np.uint)\n",
        "print(a)\n",
        "b = np.ones([3, 5], dtype=np.uint) *2\n",
        "print(b)"
      ],
      "execution_count": 5,
      "outputs": [
        {
          "output_type": "stream",
          "text": [
            "[[2 2 2 2 2]\n",
            " [2 2 2 2 2]\n",
            " [2 2 2 2 2]]\n",
            "[[2 2 2 2 2]\n",
            " [2 2 2 2 2]\n",
            " [2 2 2 2 2]]\n"
          ],
          "name": "stdout"
        }
      ]
    }
  ]
}